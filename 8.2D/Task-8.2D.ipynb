{
 "cells": [
  {
   "cell_type": "markdown",
   "metadata": {},
   "source": [
    "## SIT-789 Task-8.2D"
   ]
  },
  {
   "cell_type": "markdown",
   "metadata": {},
   "source": [
    "## Section-1"
   ]
  },
  {
   "cell_type": "code",
   "execution_count": 1,
   "metadata": {},
   "outputs": [
    {
     "name": "stderr",
     "output_type": "stream",
     "text": [
      "c:\\program files\\python37\\lib\\site-packages\\pydub\\utils.py:170: RuntimeWarning: Couldn't find ffmpeg or avconv - defaulting to ffmpeg, but may not work\n",
      "  warn(\"Couldn't find ffmpeg or avconv - defaulting to ffmpeg, but may not work\", RuntimeWarning)\n"
     ]
    }
   ],
   "source": [
    "import numpy as np\n",
    "import matplotlib.pyplot as plt\n",
    "import IPython.display as ipd\n",
    "from pydub import AudioSegment\n",
    "from pydub.utils import mediainfo\n",
    "import librosa\n",
    "import librosa.display\n",
    "import os\n",
    "import pickle"
   ]
  },
  {
   "cell_type": "markdown",
   "metadata": {},
   "source": [
    "Read training file names and emotion labels"
   ]
  },
  {
   "cell_type": "code",
   "execution_count": 2,
   "metadata": {},
   "outputs": [],
   "source": [
    "emotions = ['Calm', 'Happy', 'Sad', 'Angry']\n",
    "path = 'EmotionSpeech/'\n",
    "training_file_names = []\n",
    "training_emotion_labels = []\n",
    "for i in range(0, len(emotions)):\n",
    "    sub_path = path + 'Train/' + emotions[i] + '/'\n",
    "    sub_file_names = [os.path.join(sub_path, f) for f in os.listdir(sub_path)]\n",
    "    sub_emotion_labels = [i] * len(sub_file_names)\n",
    "    training_file_names += sub_file_names\n",
    "    training_emotion_labels += sub_emotion_labels"
   ]
  },
  {
   "cell_type": "markdown",
   "metadata": {},
   "source": [
    "Set the default parameters for the task"
   ]
  },
  {
   "cell_type": "code",
   "execution_count": 3,
   "metadata": {},
   "outputs": [],
   "source": [
    "sub_bands = [[300, 627], [628, 1060], [1061, 1633], [1634, 2393], [2394, 3400]]\n",
    "n_freq = 16384\n",
    "n_mel_freq = 3401\n",
    "win_duration = 0.030\n",
    "hop_duration = 0.015\n",
    "num_frames = 200\n",
    "window = 'hann'"
   ]
  },
  {
   "cell_type": "markdown",
   "metadata": {},
   "source": [
    "Code for the SC feature extraction"
   ]
  },
  {
   "cell_type": "code",
   "execution_count": 4,
   "metadata": {},
   "outputs": [],
   "source": [
    "def extract_sc(audio_file):\n",
    "    speech = AudioSegment.from_wav(audio_file) #Read audio data from file\n",
    "    x = speech.get_array_of_samples() #samples x(t)\n",
    "    x_sr = speech.frame_rate #sampling rate f - see slide 24 in week 7 lecture slides\n",
    "    \n",
    "    mel_spec = librosa.feature.melspectrogram(\n",
    "        np.float32(x),\n",
    "        hop_length = int(x_sr * hop_duration),\n",
    "        n_fft = n_freq,\n",
    "        n_mels = n_mel_freq,\n",
    "        power = 2\n",
    "    )\n",
    "    \n",
    "    spec_trunc = np.zeros((mel_spec.shape[0], num_frames), np.float32)\n",
    "    for i in range(min(num_frames, mel_spec.shape[1])):\n",
    "        spec_trunc[:, i] = mel_spec[:, i]\n",
    "        \n",
    "    features = np.zeros((len(sub_bands), num_frames), np.float32)\n",
    "    for i in range(len(sub_bands)):\n",
    "        for f in range(num_frames):\n",
    "            s = 0.00001\n",
    "            for k in range(sub_bands[i][0], sub_bands[i][1] + 1):\n",
    "                features[i][f] += k * spec_trunc[k][f]\n",
    "                s += spec_trunc[k][f]\n",
    "            \n",
    "            features[i][f] /= s\n",
    "        \n",
    "    return np.reshape(features.T, features.shape[0] * features.shape[1])"
   ]
  },
  {
   "cell_type": "markdown",
   "metadata": {},
   "source": [
    "Code for SBW feature extraction"
   ]
  },
  {
   "cell_type": "code",
   "execution_count": 5,
   "metadata": {},
   "outputs": [],
   "source": [
    "def extract_sbw(audio_file):\n",
    "    speech = AudioSegment.from_wav(audio_file) #Read audio data from file\n",
    "    x = speech.get_array_of_samples() #samples x(t)\n",
    "    x_sr = speech.frame_rate #sampling rate f - see slide 24 in week 7 lecture slides\n",
    "    \n",
    "    mel_spec = librosa.feature.melspectrogram(\n",
    "        np.float32(x),\n",
    "        hop_length = int(x_sr * hop_duration),\n",
    "        n_fft = n_freq,\n",
    "        n_mels = n_mel_freq,\n",
    "        power = 2\n",
    "    )\n",
    "    \n",
    "    spec_trunc = np.zeros((mel_spec.shape[0], num_frames), np.float32)\n",
    "    for i in range(min(num_frames, mel_spec.shape[1])):\n",
    "        spec_trunc[:, i] = mel_spec[:, i]\n",
    "        \n",
    "    features = np.zeros((len(sub_bands), num_frames), np.float32)\n",
    "    for i in range(len(sub_bands)):\n",
    "        for f in range(num_frames):\n",
    "            SC = 0\n",
    "            s = 0.00001\n",
    "            for k in range(sub_bands[i][0], sub_bands[i][1] + 1):\n",
    "                SC += k * spec_trunc[k][f]                \n",
    "                s += spec_trunc[k][f]\n",
    "            SC /= s\n",
    "            for k in range(sub_bands[i][0], sub_bands[i][1] + 1):\n",
    "                features[i][f] += (k - SC) * (k - SC)  * spec_trunc[k][f]\n",
    "            \n",
    "            features[i][f] /= s\n",
    "        \n",
    "    return np.reshape(features.T, features.shape[0] * features.shape[1])"
   ]
  },
  {
   "cell_type": "markdown",
   "metadata": {},
   "source": [
    "Code for SBE feature extraction"
   ]
  },
  {
   "cell_type": "code",
   "execution_count": 32,
   "metadata": {},
   "outputs": [],
   "source": [
    "def extract_sbe(audio_file):\n",
    "    speech = AudioSegment.from_wav(audio_file) #Read audio data from file\n",
    "    x = speech.get_array_of_samples() #samples x(t)\n",
    "    x_sr = speech.frame_rate #sampling rate f - see slide 24 in week 7 lecture slides\n",
    "    \n",
    "    mel_spec = librosa.feature.melspectrogram(\n",
    "        np.float32(x),\n",
    "        hop_length = int(x_sr * hop_duration),\n",
    "        n_fft = n_freq,\n",
    "        n_mels = n_mel_freq,\n",
    "        power = 2\n",
    "    )\n",
    "    \n",
    "    spec_trunc = np.zeros((mel_spec.shape[0], num_frames), np.float32)\n",
    "    for i in range(min(num_frames, mel_spec.shape[1])):\n",
    "        spec_trunc[:, i] = mel_spec[:, i]\n",
    "        \n",
    "    features = np.zeros((len(sub_bands), num_frames), np.float32)\n",
    "    for i in range(len(sub_bands)):\n",
    "        for f in range(num_frames):\n",
    "            for k in range(sub_bands[i][0], sub_bands[i][1] + 1):\n",
    "                features[i][f] += spec_trunc[k][f]\n",
    "                \n",
    "    for f in range(num_frames):\n",
    "        s = np.sum(features[:, f]) + 0.00001\n",
    "        features[:, f] /= s\n",
    "        \n",
    "    return np.reshape(features.T, features.shape[0] * features.shape[1])"
   ]
  },
  {
   "cell_type": "markdown",
   "metadata": {},
   "source": [
    "Code for SFM feature extraction"
   ]
  },
  {
   "cell_type": "code",
   "execution_count": 8,
   "metadata": {},
   "outputs": [],
   "source": [
    "def extract_sfm(audio_file):\n",
    "    speech = AudioSegment.from_wav(audio_file) #Read audio data from file\n",
    "    x = speech.get_array_of_samples() #samples x(t)\n",
    "    x_sr = speech.frame_rate #sampling rate f - see slide 24 in week 7 lecture slides\n",
    "    \n",
    "    mel_spec = librosa.feature.melspectrogram(\n",
    "        np.float32(x),\n",
    "        hop_length = int(x_sr * hop_duration),\n",
    "        n_fft = n_freq,\n",
    "        n_mels = n_mel_freq,\n",
    "        power = 2\n",
    "    )\n",
    "    \n",
    "    spec_trunc = np.zeros((mel_spec.shape[0], num_frames), np.float32)\n",
    "    for i in range(min(num_frames, mel_spec.shape[1])):\n",
    "        spec_trunc[:, i] = mel_spec[:, i]\n",
    "        \n",
    "    features = np.ones((len(sub_bands), num_frames), np.float32)\n",
    "    for i in range(len(sub_bands)):\n",
    "        p = 1 / (sub_bands[i][1] - sub_bands[i][0] + 1)\n",
    "        for f in range(num_frames):\n",
    "            s = 0.00001\n",
    "            for k in range(sub_bands[i][0], sub_bands[i][1] + 1):\n",
    "                features[i][f] *= np.power(spec_trunc[k][f], p)\n",
    "                s += spec_trunc[k][f]\n",
    "            features[b][f] /= (p * s)\n",
    "        \n",
    "    return np.reshape(features.T, features.shape[0] * features.shape[1])"
   ]
  },
  {
   "cell_type": "markdown",
   "metadata": {},
   "source": [
    "Code for SCF feature extraction"
   ]
  },
  {
   "cell_type": "code",
   "execution_count": 27,
   "metadata": {},
   "outputs": [],
   "source": [
    "def extract_scf(audio_file):\n",
    "    speech = AudioSegment.from_wav(audio_file) #Read audio data from file\n",
    "    x = speech.get_array_of_samples() #samples x(t)\n",
    "    x_sr = speech.frame_rate #sampling rate f - see slide 24 in week 7 lecture slides\n",
    "    \n",
    "    mel_spec = librosa.feature.melspectrogram(\n",
    "        np.float32(x),\n",
    "        hop_length = int(x_sr * hop_duration),\n",
    "        n_fft = n_freq,\n",
    "        n_mels = n_mel_freq,\n",
    "        power = 2\n",
    "    )\n",
    "    \n",
    "    spec_trunc = np.zeros((mel_spec.shape[0], num_frames), np.float32)\n",
    "    for i in range(min(num_frames, mel_spec.shape[1])):\n",
    "        spec_trunc[:, i] = mel_spec[:, i]\n",
    "        \n",
    "    features = np.zeros((len(sub_bands), num_frames), np.float32)\n",
    "    for i in range(len(sub_bands)):\n",
    "        p = 1 / (sub_bands[i][1] - sub_bands[i][0] + 1)\n",
    "        for f in range(num_frames):\n",
    "            s = 0.000001\n",
    "            for k in range(sub_bands[i][0], sub_bands[i][1] + 1):\n",
    "                s += spec_trunc[k][f]\n",
    "            features[i][f] = np.max(spec_trunc[sub_bands[i][0]:sub_bands[i][1] + 1][f]) / (p * s)\n",
    "        \n",
    "    return np.reshape(features.T, features.shape[0] * features.shape[1])"
   ]
  },
  {
   "cell_type": "markdown",
   "metadata": {},
   "source": [
    "Code for RE feature extraction"
   ]
  },
  {
   "cell_type": "code",
   "execution_count": 4,
   "metadata": {},
   "outputs": [],
   "source": [
    "def extract_re(audio_file):\n",
    "    alpha = 3\n",
    "    speech = AudioSegment.from_wav(audio_file) #Read audio data from file\n",
    "    x = speech.get_array_of_samples() #samples x(t)\n",
    "    x_sr = speech.frame_rate #sampling rate f - see slide 24 in week 7 lecture slides\n",
    "    \n",
    "    mel_spec = librosa.feature.melspectrogram(\n",
    "        np.float32(x),\n",
    "        hop_length = int(x_sr * hop_duration),\n",
    "        n_fft = n_freq,\n",
    "        n_mels = n_mel_freq,\n",
    "        power = 1\n",
    "    )\n",
    "    \n",
    "    spec_trunc = np.zeros((mel_spec.shape[0], num_frames), np.float32)\n",
    "    for i in range(min(num_frames, mel_spec.shape[1])):\n",
    "        spec_trunc[:, i] = abs(mel_spec[:, i])\n",
    "        \n",
    "    features = np.zeros((len(sub_bands), num_frames), np.float32)\n",
    "    for i in range(len(sub_bands)):\n",
    "        for f in range(num_frames):\n",
    "            m = 0.00001 + np.sum(spec_trunc[sub_bands[i][0]:sub_bands[i][1] + 1][f])\n",
    "            s = 0.00001\n",
    "            for k in range(sub_bands[i][0], sub_bands[i][1] + 1):\n",
    "                s += np.power(spec_trunc[k][f] / m, alpha)\n",
    "            features[i][f] = 1 / (1 - alpha) * np.log2(s)\n",
    "        \n",
    "    return np.reshape(features.T, features.shape[0] * features.shape[1])"
   ]
  },
  {
   "cell_type": "markdown",
   "metadata": {},
   "source": [
    "Code for SE feature extraction"
   ]
  },
  {
   "cell_type": "code",
   "execution_count": 5,
   "metadata": {},
   "outputs": [],
   "source": [
    "def extract_se(audio_file):\n",
    "    speech = AudioSegment.from_wav(audio_file) #Read audio data from file\n",
    "    x = speech.get_array_of_samples() #samples x(t)\n",
    "    x_sr = speech.frame_rate #sampling rate f - see slide 24 in week 7 lecture slides\n",
    "    \n",
    "    mel_spec = librosa.feature.melspectrogram(\n",
    "        np.float32(x),\n",
    "        hop_length = int(x_sr * hop_duration),\n",
    "        n_fft = n_freq,\n",
    "        n_mels = n_mel_freq,\n",
    "        power = 1\n",
    "    )\n",
    "    \n",
    "    spec_trunc = np.zeros((mel_spec.shape[0], num_frames), np.float32)\n",
    "    for i in range(min(num_frames, mel_spec.shape[1])):\n",
    "        spec_trunc[:, i] = abs(mel_spec[:, i])\n",
    "        \n",
    "    features = np.zeros((len(sub_bands), num_frames), np.float32)\n",
    "    for i in range(len(sub_bands)):\n",
    "        for f in range(num_frames):\n",
    "            s = 0.00001 + np.sum(spec_trunc[sub_bands[i][0]:sub_bands[i][1] + 1][f])            \n",
    "            for k in range(sub_bands[i][0], sub_bands[i][1] + 1):\n",
    "                ratio = 0.00001 + spec_trunc[k][f] / s            \n",
    "                features[i][f] -= ratio * np.log2(ratio)\n",
    "        \n",
    "    return np.reshape(features.T, features.shape[0] * features.shape[1])"
   ]
  },
  {
   "cell_type": "markdown",
   "metadata": {},
   "source": [
    "Code to get the test file names and emotion labels"
   ]
  },
  {
   "cell_type": "code",
   "execution_count": 6,
   "metadata": {},
   "outputs": [],
   "source": [
    "test_file_names = []\n",
    "test_emotion_labels = []\n",
    "\n",
    "for i in range(0, len(emotions)):\n",
    "    sub_path = path + 'Test/' + emotions[i] + '/'\n",
    "    sub_file_names = [os.path.join(sub_path, f) for f in os.listdir(sub_path)]\n",
    "    sub_emotion_labels = [i] * len(sub_file_names) #create a list of N elements, all are i\n",
    "    test_file_names += sub_file_names\n",
    "    test_emotion_labels += sub_emotion_labels"
   ]
  },
  {
   "cell_type": "code",
   "execution_count": 7,
   "metadata": {},
   "outputs": [],
   "source": [
    "def get_features(file_list, func):\n",
    "    extracted_features = []\n",
    "    for file_name in file_list:\n",
    "        extracted_features.append(func(file_name))\n",
    "    return extracted_features"
   ]
  },
  {
   "cell_type": "code",
   "execution_count": 51,
   "metadata": {},
   "outputs": [],
   "source": [
    "import json\n",
    "train_features_sc = get_features(training_file_names, extract_sc)\n",
    "test_features_sc = get_features(test_file_names, extract_sc)"
   ]
  },
  {
   "cell_type": "code",
   "execution_count": 70,
   "metadata": {},
   "outputs": [],
   "source": [
    "import pickle\n",
    "with open('train_features_sc.spc', 'wb') as outfile:\n",
    "    pickle.dump(train_features_sc, outfile)\n",
    "with open('test_features_sc.spc', 'wb') as outfile:\n",
    "    pickle.dump(test_features_sc, outfile)"
   ]
  },
  {
   "cell_type": "code",
   "execution_count": 71,
   "metadata": {},
   "outputs": [],
   "source": [
    "train_features_sbw = get_features(training_file_names, extract_sbw)\n",
    "test_features_sbw = get_features(test_file_names, extract_sbw)"
   ]
  },
  {
   "cell_type": "code",
   "execution_count": 72,
   "metadata": {},
   "outputs": [],
   "source": [
    "with open('train_features_sbw.spc', 'wb') as outfile:\n",
    "    pickle.dump(train_features_sbw, outfile)\n",
    "with open('test_features_sbw.spc', 'wb') as outfile:\n",
    "    pickle.dump(test_features_sbw, outfile)"
   ]
  },
  {
   "cell_type": "code",
   "execution_count": 73,
   "metadata": {},
   "outputs": [],
   "source": [
    "train_features_sbe = get_features(training_file_names, extract_sbe)\n",
    "test_features_sbe = get_features(test_file_names, extract_sbe)\n",
    "with open('train_features_sbe.spc', 'wb') as outfile:\n",
    "    pickle.dump(train_features_sbe, outfile)\n",
    "with open('test_features_sbe.spc', 'wb') as outfile:\n",
    "    pickle.dump(test_features_sbe, outfile)"
   ]
  },
  {
   "cell_type": "code",
   "execution_count": 9,
   "metadata": {},
   "outputs": [],
   "source": [
    "train_features_sfm = get_features(training_file_names, extract_sfm)\n",
    "test_features_sfm = get_features(test_file_names, extract_sfm)\n",
    "with open('train_features_sfm.spc', 'wb') as outfile:\n",
    "    pickle.dump(train_features_sfm, outfile)\n",
    "with open('test_features_sfm.spc', 'wb') as outfile:\n",
    "    pickle.dump(test_features_sfm, outfile)"
   ]
  },
  {
   "cell_type": "code",
   "execution_count": 36,
   "metadata": {},
   "outputs": [],
   "source": [
    "train_features_scf = get_features(training_file_names, extract_scf)\n",
    "test_features_scf = get_features(test_file_names, extract_scf)\n",
    "with open('train_features_scf.spc', 'wb') as outfile:\n",
    "    pickle.dump(train_features_scf, outfile)\n",
    "with open('test_features_scf.spc', 'wb') as outfile:\n",
    "    pickle.dump(test_features_scf, outfile)"
   ]
  },
  {
   "cell_type": "code",
   "execution_count": 8,
   "metadata": {},
   "outputs": [],
   "source": [
    "train_features_re = get_features(training_file_names, extract_re)\n",
    "test_features_re = get_features(test_file_names, extract_re)\n",
    "with open('train_features_re.spc', 'wb') as outfile:\n",
    "    pickle.dump(train_features_re, outfile)\n",
    "with open('test_features_re.spc', 'wb') as outfile:\n",
    "    pickle.dump(test_features_re, outfile)"
   ]
  },
  {
   "cell_type": "code",
   "execution_count": 9,
   "metadata": {},
   "outputs": [],
   "source": [
    "train_features_se = get_features(training_file_names, extract_se)\n",
    "test_features_se = get_features(test_file_names, extract_se)\n",
    "with open('train_features_se.spc', 'wb') as outfile:\n",
    "    pickle.dump(train_features_se, outfile)\n",
    "with open('test_features_se.spc', 'wb') as outfile:\n",
    "    pickle.dump(test_features_se, outfile)"
   ]
  },
  {
   "cell_type": "markdown",
   "metadata": {},
   "source": [
    "## Section-2"
   ]
  },
  {
   "cell_type": "code",
   "execution_count": 10,
   "metadata": {},
   "outputs": [],
   "source": [
    "def get_predicted_labels(classifier, test_features_list):\n",
    "    predicted_emotion_labels = []\n",
    "    for test_feature in test_features_list:\n",
    "        predicted_emotion_label = classifier.predict([test_feature])\n",
    "        predicted_emotion_labels.append(predicted_emotion_label)\n",
    "    return predicted_emotion_labels"
   ]
  },
  {
   "cell_type": "code",
   "execution_count": 11,
   "metadata": {},
   "outputs": [],
   "source": [
    "from sklearn.metrics import classification_report,confusion_matrix, accuracy_score\n",
    "def get_classification_report(predicted_emotion_labels):    \n",
    "    cm = confusion_matrix(test_emotion_labels, predicted_emotion_labels)\n",
    "    print('Confusion Matrix', cm)\n",
    "    cm = cm.astype('float') / cm.sum(axis=1)[:, np.newaxis]\n",
    "    print(cm.diagonal())\n",
    "    \n",
    "    acc = np.sum(cm.diagonal()) / np.sum(cm)\n",
    "    print('Overall accuracy: {} %'.format(acc*100))\n",
    "    \n",
    "    from sklearn.metrics import f1_score\n",
    "    print('F1-Score', f1_score(test_emotion_labels, predicted_emotion_labels, average='macro'))\n",
    "    \n",
    "    print(classification_report(test_emotion_labels, predicted_emotion_labels))\n",
    "    print('Accuracy Score', accuracy_score(test_emotion_labels, predicted_emotion_labels))"
   ]
  },
  {
   "cell_type": "code",
   "execution_count": 12,
   "metadata": {},
   "outputs": [],
   "source": [
    "from sklearn import svm\n",
    "def train_svm_classifier(training_features):    \n",
    "    svm_classifier = svm.SVC(C = 10, #see slide 32 in week 4 lecture slides\n",
    "                            kernel = 'linear') #see slide 35 in week 4 lecture slides\n",
    "    svm_classifier.fit(training_features, training_emotion_labels)\n",
    "    \n",
    "    return svm_classifier"
   ]
  },
  {
   "cell_type": "code",
   "execution_count": 13,
   "metadata": {},
   "outputs": [],
   "source": [
    "from sklearn.ensemble import AdaBoostClassifier\n",
    "\n",
    "def train_adaboost_classifier(training_features):\n",
    "    adb_classifier = AdaBoostClassifier(n_estimators = 200,\n",
    "                                        random_state = 0)\n",
    "    \n",
    "    adb_classifier.fit(training_features, training_emotion_labels)\n",
    "    \n",
    "    return adb_classifier"
   ]
  },
  {
   "cell_type": "markdown",
   "metadata": {},
   "source": [
    "## 1. Spectral Centroid (SC)"
   ]
  },
  {
   "cell_type": "code",
   "execution_count": 21,
   "metadata": {},
   "outputs": [],
   "source": [
    "with open('train_features_sc.spc', 'rb') as f:\n",
    "    train_features_sc = pickle.load(f)\n",
    "with open('test_features_sc.spc', 'rb') as f:\n",
    "    test_features_sc = pickle.load(f)    "
   ]
  },
  {
   "cell_type": "code",
   "execution_count": 20,
   "metadata": {},
   "outputs": [
    {
     "name": "stdout",
     "output_type": "stream",
     "text": [
      "Confusion Matrix [[17  5  5  5]\n",
      " [ 6 14  9  3]\n",
      " [ 8 13  6  5]\n",
      " [ 6  4  6 16]]\n",
      "[0.53125 0.4375  0.1875  0.5    ]\n",
      "Overall accuracy: 41.40625 %\n",
      "              precision    recall  f1-score   support\n",
      "\n",
      "           0       0.46      0.53      0.49        32\n",
      "           1       0.39      0.44      0.41        32\n",
      "           2       0.23      0.19      0.21        32\n",
      "           3       0.55      0.50      0.52        32\n",
      "\n",
      "    accuracy                           0.41       128\n",
      "   macro avg       0.41      0.41      0.41       128\n",
      "weighted avg       0.41      0.41      0.41       128\n",
      "\n",
      "Accuracy Score 0.4140625\n"
     ]
    }
   ],
   "source": [
    "svm_classifier = train_svm_classifier(train_features_sc)\n",
    "predicted_emotion_labels_svm = get_predicted_labels(svm_classifier, test_features_sc)\n",
    "get_classification_report(predicted_emotion_labels_svm)"
   ]
  },
  {
   "cell_type": "code",
   "execution_count": 21,
   "metadata": {},
   "outputs": [
    {
     "name": "stdout",
     "output_type": "stream",
     "text": [
      "Confusion Matrix [[10 12  8  2]\n",
      " [ 0 17  9  6]\n",
      " [ 0 10 15  7]\n",
      " [ 4 12 11  5]]\n",
      "[0.3125  0.53125 0.46875 0.15625]\n",
      "Overall accuracy: 36.71875 %\n",
      "              precision    recall  f1-score   support\n",
      "\n",
      "           0       0.71      0.31      0.43        32\n",
      "           1       0.33      0.53      0.41        32\n",
      "           2       0.35      0.47      0.40        32\n",
      "           3       0.25      0.16      0.19        32\n",
      "\n",
      "    accuracy                           0.37       128\n",
      "   macro avg       0.41      0.37      0.36       128\n",
      "weighted avg       0.41      0.37      0.36       128\n",
      "\n",
      "Accuracy Score 0.3671875\n"
     ]
    }
   ],
   "source": [
    "ada_classifier = train_adaboost_classifier(train_features_sc)\n",
    "predicted_emotion_labels_ada = get_predicted_labels(ada_classifier, test_features_sc)\n",
    "get_classification_report(predicted_emotion_labels_ada)"
   ]
  },
  {
   "cell_type": "markdown",
   "metadata": {},
   "source": [
    "## 2. Spectral Bandwidth (SBW)"
   ]
  },
  {
   "cell_type": "code",
   "execution_count": 22,
   "metadata": {},
   "outputs": [],
   "source": [
    "with open('train_features_sbw.spc', 'rb') as f:\n",
    "    train_features_sbw = pickle.load(f)\n",
    "with open('test_features_sbw.spc', 'rb') as f:\n",
    "    test_features_sbw = pickle.load(f)    "
   ]
  },
  {
   "cell_type": "code",
   "execution_count": 23,
   "metadata": {},
   "outputs": [
    {
     "name": "stdout",
     "output_type": "stream",
     "text": [
      "Confusion Matrix [[16  3  9  4]\n",
      " [12 13  1  6]\n",
      " [ 7  3 18  4]\n",
      " [ 4  9  6 13]]\n",
      "[0.5     0.40625 0.5625  0.40625]\n",
      "Overall accuracy: 46.875 %\n",
      "              precision    recall  f1-score   support\n",
      "\n",
      "           0       0.41      0.50      0.45        32\n",
      "           1       0.46      0.41      0.43        32\n",
      "           2       0.53      0.56      0.55        32\n",
      "           3       0.48      0.41      0.44        32\n",
      "\n",
      "    accuracy                           0.47       128\n",
      "   macro avg       0.47      0.47      0.47       128\n",
      "weighted avg       0.47      0.47      0.47       128\n",
      "\n",
      "Accuracy Score 0.46875\n"
     ]
    }
   ],
   "source": [
    "svm_classifier = train_svm_classifier(train_features_sbw)\n",
    "predicted_emotion_labels_svm = get_predicted_labels(svm_classifier, test_features_sbw)\n",
    "get_classification_report(predicted_emotion_labels_svm)"
   ]
  },
  {
   "cell_type": "code",
   "execution_count": 24,
   "metadata": {},
   "outputs": [
    {
     "name": "stdout",
     "output_type": "stream",
     "text": [
      "Confusion Matrix [[14  9  2  7]\n",
      " [ 8  8  6 10]\n",
      " [ 6  8  6 12]\n",
      " [ 5  5  3 19]]\n",
      "[0.4375  0.25    0.1875  0.59375]\n",
      "Overall accuracy: 36.71875 %\n",
      "              precision    recall  f1-score   support\n",
      "\n",
      "           0       0.42      0.44      0.43        32\n",
      "           1       0.27      0.25      0.26        32\n",
      "           2       0.35      0.19      0.24        32\n",
      "           3       0.40      0.59      0.48        32\n",
      "\n",
      "    accuracy                           0.37       128\n",
      "   macro avg       0.36      0.37      0.35       128\n",
      "weighted avg       0.36      0.37      0.35       128\n",
      "\n",
      "Accuracy Score 0.3671875\n"
     ]
    }
   ],
   "source": [
    "ada_classifier = train_adaboost_classifier(train_features_sbw)\n",
    "predicted_emotion_labels_ada = get_predicted_labels(ada_classifier, test_features_sbw)\n",
    "get_classification_report(predicted_emotion_labels_ada)"
   ]
  },
  {
   "cell_type": "markdown",
   "metadata": {},
   "source": [
    "## 3. Spectral Band Energy (SBE)"
   ]
  },
  {
   "cell_type": "code",
   "execution_count": 25,
   "metadata": {},
   "outputs": [],
   "source": [
    "with open('train_features_sbe.spc', 'rb') as f:\n",
    "    train_features_sbe = pickle.load(f)\n",
    "with open('test_features_sbe.spc', 'rb') as f:\n",
    "    test_features_sbe = pickle.load(f)    "
   ]
  },
  {
   "cell_type": "code",
   "execution_count": 26,
   "metadata": {},
   "outputs": [
    {
     "name": "stdout",
     "output_type": "stream",
     "text": [
      "Confusion Matrix [[25  0  1  6]\n",
      " [ 8 17  1  6]\n",
      " [ 6 11  8  7]\n",
      " [ 5  3  2 22]]\n",
      "[0.78125 0.53125 0.25    0.6875 ]\n",
      "Overall accuracy: 56.25 %\n",
      "              precision    recall  f1-score   support\n",
      "\n",
      "           0       0.57      0.78      0.66        32\n",
      "           1       0.55      0.53      0.54        32\n",
      "           2       0.67      0.25      0.36        32\n",
      "           3       0.54      0.69      0.60        32\n",
      "\n",
      "    accuracy                           0.56       128\n",
      "   macro avg       0.58      0.56      0.54       128\n",
      "weighted avg       0.58      0.56      0.54       128\n",
      "\n",
      "Accuracy Score 0.5625\n"
     ]
    }
   ],
   "source": [
    "svm_classifier = train_svm_classifier(train_features_sbe)\n",
    "predicted_emotion_labels_svm = get_predicted_labels(svm_classifier, test_features_sbe)\n",
    "get_classification_report(predicted_emotion_labels_svm)"
   ]
  },
  {
   "cell_type": "code",
   "execution_count": 27,
   "metadata": {},
   "outputs": [
    {
     "name": "stdout",
     "output_type": "stream",
     "text": [
      "Confusion Matrix [[13  2  7 10]\n",
      " [ 6 12 10  4]\n",
      " [ 4  6 10 12]\n",
      " [ 6  3  3 20]]\n",
      "[0.40625 0.375   0.3125  0.625  ]\n",
      "Overall accuracy: 42.96875 %\n",
      "              precision    recall  f1-score   support\n",
      "\n",
      "           0       0.45      0.41      0.43        32\n",
      "           1       0.52      0.38      0.44        32\n",
      "           2       0.33      0.31      0.32        32\n",
      "           3       0.43      0.62      0.51        32\n",
      "\n",
      "    accuracy                           0.43       128\n",
      "   macro avg       0.43      0.43      0.42       128\n",
      "weighted avg       0.43      0.43      0.42       128\n",
      "\n",
      "Accuracy Score 0.4296875\n"
     ]
    }
   ],
   "source": [
    "ada_classifier = train_adaboost_classifier(train_features_sbe)\n",
    "predicted_emotion_labels_ada = get_predicted_labels(ada_classifier, test_features_sbe)\n",
    "get_classification_report(predicted_emotion_labels_ada)"
   ]
  },
  {
   "cell_type": "markdown",
   "metadata": {},
   "source": [
    "## 4. Spectral Flatness Measure (SFM)"
   ]
  },
  {
   "cell_type": "code",
   "execution_count": 8,
   "metadata": {},
   "outputs": [],
   "source": [
    "with open('train_features_sfm.spc', 'rb') as f:\n",
    "    train_features_sfm = pickle.load(f)\n",
    "with open('test_features_sfm.spc', 'rb') as f:\n",
    "    test_features_sfm = pickle.load(f)    "
   ]
  },
  {
   "cell_type": "code",
   "execution_count": 15,
   "metadata": {},
   "outputs": [
    {
     "name": "stdout",
     "output_type": "stream",
     "text": [
      "Confusion Matrix [[21  3  8  0]\n",
      " [ 8 17  5  2]\n",
      " [ 6 10 13  3]\n",
      " [ 6 15  4  7]]\n",
      "[0.65625 0.53125 0.40625 0.21875]\n",
      "Overall accuracy: 45.3125 %\n",
      "              precision    recall  f1-score   support\n",
      "\n",
      "           0       0.51      0.66      0.58        32\n",
      "           1       0.38      0.53      0.44        32\n",
      "           2       0.43      0.41      0.42        32\n",
      "           3       0.58      0.22      0.32        32\n",
      "\n",
      "    accuracy                           0.45       128\n",
      "   macro avg       0.48      0.45      0.44       128\n",
      "weighted avg       0.48      0.45      0.44       128\n",
      "\n",
      "Accuracy Score 0.453125\n"
     ]
    }
   ],
   "source": [
    "svm_classifier = train_svm_classifier(train_features_sfm)\n",
    "predicted_emotion_labels_svm = get_predicted_labels(svm_classifier, test_features_sfm)\n",
    "get_classification_report(predicted_emotion_labels_svm)"
   ]
  },
  {
   "cell_type": "code",
   "execution_count": 16,
   "metadata": {},
   "outputs": [
    {
     "name": "stdout",
     "output_type": "stream",
     "text": [
      "Confusion Matrix [[18  2 12  0]\n",
      " [ 7 16  6  3]\n",
      " [ 5  8 16  3]\n",
      " [ 2  9  8 13]]\n",
      "[0.5625  0.5     0.5     0.40625]\n",
      "Overall accuracy: 49.21875 %\n",
      "              precision    recall  f1-score   support\n",
      "\n",
      "           0       0.56      0.56      0.56        32\n",
      "           1       0.46      0.50      0.48        32\n",
      "           2       0.38      0.50      0.43        32\n",
      "           3       0.68      0.41      0.51        32\n",
      "\n",
      "    accuracy                           0.49       128\n",
      "   macro avg       0.52      0.49      0.50       128\n",
      "weighted avg       0.52      0.49      0.50       128\n",
      "\n",
      "Accuracy Score 0.4921875\n"
     ]
    }
   ],
   "source": [
    "ada_classifier = train_adaboost_classifier(train_features_sfm)\n",
    "predicted_emotion_labels_ada = get_predicted_labels(ada_classifier, test_features_sfm)\n",
    "get_classification_report(predicted_emotion_labels_ada)"
   ]
  },
  {
   "cell_type": "markdown",
   "metadata": {},
   "source": [
    "## 5. Spectral Crest Factor (SCF)"
   ]
  },
  {
   "cell_type": "code",
   "execution_count": 37,
   "metadata": {},
   "outputs": [],
   "source": [
    "import pickle\n",
    "with open('train_features_scf.spc', 'rb') as f:\n",
    "    train_features_scf = pickle.load(f)\n",
    "with open('test_features_scf.spc', 'rb') as f:\n",
    "    test_features_scf = pickle.load(f)    "
   ]
  },
  {
   "cell_type": "code",
   "execution_count": 42,
   "metadata": {},
   "outputs": [
    {
     "name": "stdout",
     "output_type": "stream",
     "text": [
      "Confusion Matrix [[ 0  0  0 32]\n",
      " [ 0  0  0 32]\n",
      " [ 0  0  0 32]\n",
      " [ 0  0  0 32]]\n",
      "[0. 0. 0. 1.]\n",
      "Overall accuracy: 25.0 %\n",
      "F1-Score 0.1\n",
      "              precision    recall  f1-score   support\n",
      "\n",
      "           0       0.00      0.00      0.00        32\n",
      "           1       0.00      0.00      0.00        32\n",
      "           2       0.00      0.00      0.00        32\n",
      "           3       0.25      1.00      0.40        32\n",
      "\n",
      "    accuracy                           0.25       128\n",
      "   macro avg       0.06      0.25      0.10       128\n",
      "weighted avg       0.06      0.25      0.10       128\n",
      "\n",
      "Accuracy Score 0.25\n"
     ]
    },
    {
     "name": "stderr",
     "output_type": "stream",
     "text": [
      "c:\\program files\\python37\\lib\\site-packages\\sklearn\\metrics\\_classification.py:1221: UndefinedMetricWarning: Precision and F-score are ill-defined and being set to 0.0 in labels with no predicted samples. Use `zero_division` parameter to control this behavior.\n",
      "  _warn_prf(average, modifier, msg_start, len(result))\n"
     ]
    }
   ],
   "source": [
    "svm_classifier = train_svm_classifier(train_features_scf)\n",
    "predicted_emotion_labels_svm = get_predicted_labels(svm_classifier, test_features_scf)\n",
    "get_classification_report(predicted_emotion_labels_svm)"
   ]
  },
  {
   "cell_type": "code",
   "execution_count": 32,
   "metadata": {},
   "outputs": [
    {
     "name": "stdout",
     "output_type": "stream",
     "text": [
      "Confusion Matrix [[17  7  5  3]\n",
      " [ 3 17  9  3]\n",
      " [ 3 11 17  1]\n",
      " [10  5 11  6]]\n",
      "[0.53125 0.53125 0.53125 0.1875 ]\n",
      "Overall accuracy: 44.53125 %\n",
      "              precision    recall  f1-score   support\n",
      "\n",
      "           0       0.52      0.53      0.52        32\n",
      "           1       0.42      0.53      0.47        32\n",
      "           2       0.40      0.53      0.46        32\n",
      "           3       0.46      0.19      0.27        32\n",
      "\n",
      "    accuracy                           0.45       128\n",
      "   macro avg       0.45      0.45      0.43       128\n",
      "weighted avg       0.45      0.45      0.43       128\n",
      "\n",
      "Accuracy Score 0.4453125\n"
     ]
    }
   ],
   "source": [
    "ada_classifier = train_adaboost_classifier(train_features_scf)\n",
    "predicted_emotion_labels_ada = get_predicted_labels(ada_classifier, test_features_scf)\n",
    "get_classification_report(predicted_emotion_labels_ada)"
   ]
  },
  {
   "cell_type": "markdown",
   "metadata": {},
   "source": [
    "## 6. Renyi Entropy (RE)"
   ]
  },
  {
   "cell_type": "code",
   "execution_count": 14,
   "metadata": {},
   "outputs": [],
   "source": [
    "with open('train_features_re.spc', 'rb') as f:\n",
    "    train_features_re = pickle.load(f)\n",
    "with open('test_features_re.spc', 'rb') as f:\n",
    "    test_features_re = pickle.load(f)    "
   ]
  },
  {
   "cell_type": "code",
   "execution_count": 15,
   "metadata": {},
   "outputs": [
    {
     "name": "stdout",
     "output_type": "stream",
     "text": [
      "Confusion Matrix [[20  6  5  1]\n",
      " [ 8 13  6  5]\n",
      " [ 7 11 10  4]\n",
      " [14 10  2  6]]\n",
      "[0.625   0.40625 0.3125  0.1875 ]\n",
      "Overall accuracy: 38.28125 %\n",
      "F1-Score 0.3671436588103255\n",
      "              precision    recall  f1-score   support\n",
      "\n",
      "           0       0.41      0.62      0.49        32\n",
      "           1       0.33      0.41      0.36        32\n",
      "           2       0.43      0.31      0.36        32\n",
      "           3       0.38      0.19      0.25        32\n",
      "\n",
      "    accuracy                           0.38       128\n",
      "   macro avg       0.39      0.38      0.37       128\n",
      "weighted avg       0.39      0.38      0.37       128\n",
      "\n",
      "Accuracy Score 0.3828125\n"
     ]
    }
   ],
   "source": [
    "svm_classifier = train_svm_classifier(train_features_re)\n",
    "predicted_emotion_labels_svm = get_predicted_labels(svm_classifier, test_features_re)\n",
    "get_classification_report(predicted_emotion_labels_svm)"
   ]
  },
  {
   "cell_type": "code",
   "execution_count": 25,
   "metadata": {},
   "outputs": [
    {
     "name": "stdout",
     "output_type": "stream",
     "text": [
      "Confusion Matrix [[11  0 12  9]\n",
      " [ 3  0 17 12]\n",
      " [ 2  0 22  8]\n",
      " [ 4  0 18 10]]\n",
      "[0.34375 0.      0.6875  0.3125 ]\n",
      "Overall accuracy: 33.59375 %\n",
      "F1-Score 0.2851026570696073\n",
      "              precision    recall  f1-score   support\n",
      "\n",
      "           0       0.55      0.34      0.42        32\n",
      "           1       0.00      0.00      0.00        32\n",
      "           2       0.32      0.69      0.44        32\n",
      "           3       0.26      0.31      0.28        32\n",
      "\n",
      "    accuracy                           0.34       128\n",
      "   macro avg       0.28      0.34      0.29       128\n",
      "weighted avg       0.28      0.34      0.29       128\n",
      "\n",
      "Accuracy Score 0.3359375\n"
     ]
    },
    {
     "name": "stderr",
     "output_type": "stream",
     "text": [
      "c:\\program files\\python37\\lib\\site-packages\\sklearn\\metrics\\_classification.py:1221: UndefinedMetricWarning: Precision and F-score are ill-defined and being set to 0.0 in labels with no predicted samples. Use `zero_division` parameter to control this behavior.\n",
      "  _warn_prf(average, modifier, msg_start, len(result))\n"
     ]
    }
   ],
   "source": [
    "ada_classifier = train_adaboost_classifier(train_features_re)\n",
    "predicted_emotion_labels_ada = get_predicted_labels(ada_classifier, test_features_re)\n",
    "get_classification_report(predicted_emotion_labels_ada)"
   ]
  },
  {
   "cell_type": "markdown",
   "metadata": {},
   "source": [
    "## 7. Shannon Entropy (SE)"
   ]
  },
  {
   "cell_type": "code",
   "execution_count": 17,
   "metadata": {},
   "outputs": [],
   "source": [
    "with open('train_features_se.spc', 'rb') as f:\n",
    "    train_features_se = pickle.load(f)\n",
    "with open('test_features_se.spc', 'rb') as f:\n",
    "    test_features_se = pickle.load(f)    "
   ]
  },
  {
   "cell_type": "code",
   "execution_count": 18,
   "metadata": {},
   "outputs": [
    {
     "name": "stdout",
     "output_type": "stream",
     "text": [
      "Confusion Matrix [[20  3  5  4]\n",
      " [ 7 10  4 11]\n",
      " [15  6  5  6]\n",
      " [12  3  6 11]]\n",
      "[0.625   0.3125  0.15625 0.34375]\n",
      "Overall accuracy: 35.9375 %\n",
      "F1-Score 0.3428860854369575\n",
      "              precision    recall  f1-score   support\n",
      "\n",
      "           0       0.37      0.62      0.47        32\n",
      "           1       0.45      0.31      0.37        32\n",
      "           2       0.25      0.16      0.19        32\n",
      "           3       0.34      0.34      0.34        32\n",
      "\n",
      "    accuracy                           0.36       128\n",
      "   macro avg       0.35      0.36      0.34       128\n",
      "weighted avg       0.35      0.36      0.34       128\n",
      "\n",
      "Accuracy Score 0.359375\n"
     ]
    }
   ],
   "source": [
    "svm_classifier = train_svm_classifier(train_features_se)\n",
    "predicted_emotion_labels_svm = get_predicted_labels(svm_classifier, test_features_se)\n",
    "get_classification_report(predicted_emotion_labels_svm)"
   ]
  },
  {
   "cell_type": "code",
   "execution_count": 19,
   "metadata": {},
   "outputs": [
    {
     "name": "stdout",
     "output_type": "stream",
     "text": [
      "Confusion Matrix [[18  8  5  1]\n",
      " [ 4 11 11  6]\n",
      " [ 5 12 14  1]\n",
      " [ 9  8  5 10]]\n",
      "[0.5625  0.34375 0.4375  0.3125 ]\n",
      "Overall accuracy: 41.40625 %\n",
      "F1-Score 0.41429534184916345\n",
      "              precision    recall  f1-score   support\n",
      "\n",
      "           0       0.50      0.56      0.53        32\n",
      "           1       0.28      0.34      0.31        32\n",
      "           2       0.40      0.44      0.42        32\n",
      "           3       0.56      0.31      0.40        32\n",
      "\n",
      "    accuracy                           0.41       128\n",
      "   macro avg       0.43      0.41      0.41       128\n",
      "weighted avg       0.43      0.41      0.41       128\n",
      "\n",
      "Accuracy Score 0.4140625\n"
     ]
    }
   ],
   "source": [
    "ada_classifier = train_adaboost_classifier(train_features_se)\n",
    "predicted_emotion_labels_ada = get_predicted_labels(ada_classifier, test_features_se)\n",
    "get_classification_report(predicted_emotion_labels_ada)"
   ]
  },
  {
   "cell_type": "markdown",
   "metadata": {},
   "source": [
    "## 8. Combination SE & SC"
   ]
  },
  {
   "cell_type": "code",
   "execution_count": 22,
   "metadata": {},
   "outputs": [],
   "source": [
    "new_feature_train = []\n",
    "new_feature_test = []\n",
    "n_samples = 128\n",
    "\n",
    "for i in range(128):\n",
    "    new_feature_train.append(np.concatenate([train_features_sc[i], train_features_se[i]]))\n",
    "    new_feature_test.append(np.concatenate([test_features_sc[i], test_features_se[i]]))"
   ]
  },
  {
   "cell_type": "code",
   "execution_count": 23,
   "metadata": {},
   "outputs": [
    {
     "name": "stdout",
     "output_type": "stream",
     "text": [
      "Confusion Matrix [[18  5  5  4]\n",
      " [ 6 14  9  3]\n",
      " [ 8 13  6  5]\n",
      " [ 6  4  6 16]]\n",
      "[0.5625 0.4375 0.1875 0.5   ]\n",
      "Overall accuracy: 42.1875 %\n",
      "F1-Score 0.41657007630638465\n",
      "              precision    recall  f1-score   support\n",
      "\n",
      "           0       0.47      0.56      0.51        32\n",
      "           1       0.39      0.44      0.41        32\n",
      "           2       0.23      0.19      0.21        32\n",
      "           3       0.57      0.50      0.53        32\n",
      "\n",
      "    accuracy                           0.42       128\n",
      "   macro avg       0.42      0.42      0.42       128\n",
      "weighted avg       0.42      0.42      0.42       128\n",
      "\n",
      "Accuracy Score 0.421875\n"
     ]
    }
   ],
   "source": [
    "svm_classifier = train_svm_classifier(new_feature_train)\n",
    "predicted_emotion_labels_svm = get_predicted_labels(svm_classifier, new_feature_test)\n",
    "get_classification_report(predicted_emotion_labels_svm)"
   ]
  },
  {
   "cell_type": "code",
   "execution_count": 24,
   "metadata": {},
   "outputs": [
    {
     "name": "stdout",
     "output_type": "stream",
     "text": [
      "Confusion Matrix [[14  5 10  3]\n",
      " [ 2 11 18  1]\n",
      " [ 1  8 19  4]\n",
      " [ 5  8 13  6]]\n",
      "[0.4375  0.34375 0.59375 0.1875 ]\n",
      "Overall accuracy: 39.0625 %\n",
      "F1-Score 0.38404539049919484\n",
      "              precision    recall  f1-score   support\n",
      "\n",
      "           0       0.64      0.44      0.52        32\n",
      "           1       0.34      0.34      0.34        32\n",
      "           2       0.32      0.59      0.41        32\n",
      "           3       0.43      0.19      0.26        32\n",
      "\n",
      "    accuracy                           0.39       128\n",
      "   macro avg       0.43      0.39      0.38       128\n",
      "weighted avg       0.43      0.39      0.38       128\n",
      "\n",
      "Accuracy Score 0.390625\n"
     ]
    }
   ],
   "source": [
    "ada_classifier = train_adaboost_classifier(new_feature_train)\n",
    "predicted_emotion_labels_ada = get_predicted_labels(ada_classifier, new_feature_test)\n",
    "get_classification_report(predicted_emotion_labels_ada)"
   ]
  },
  {
   "cell_type": "markdown",
   "metadata": {},
   "source": [
    "## Mel-Spectrogram"
   ]
  },
  {
   "cell_type": "code",
   "execution_count": 10,
   "metadata": {},
   "outputs": [],
   "source": [
    "def plot_spectogram(audio_file):\n",
    "\n",
    "    speech = AudioSegment.from_wav(audio_file) #Read audio data from file\n",
    "    x = speech.get_array_of_samples() #samples x(t)\n",
    "    x_sr = speech.frame_rate #sampling rate f - see slide 24 in week 7 lecture slides\n",
    "    \n",
    "    mel_spec = librosa.feature.melspectrogram(\n",
    "        np.float32(x),\n",
    "        hop_length = int(x_sr * hop_duration),\n",
    "        n_fft = n_freq,\n",
    "        n_mels = n_mel_freq,\n",
    "        power = 2\n",
    "    )\n",
    "\n",
    "    plt.figure(figsize = (15, 5))\n",
    "    #convert the amplitude to decibels, just for illustration purpose\n",
    "    mel_spec_sdb = librosa.amplitude_to_db(abs(mel_spec))\n",
    "    librosa.display.specshow(\n",
    "                                #spectrogram\n",
    "                                mel_spec_sdb,\n",
    "\n",
    "                                #sampling rate\n",
    "                                sr = x_sr,\n",
    "\n",
    "                                #label for horizontal axis\n",
    "                                x_axis = 'time',\n",
    "\n",
    "                                #presentation scale\n",
    "                                y_axis = 'linear',\n",
    "\n",
    "                                #hop_lenght\n",
    "                                hop_length = int(x_sr * hop_duration)\n",
    "                            )"
   ]
  },
  {
   "cell_type": "code",
   "execution_count": 23,
   "metadata": {},
   "outputs": [
    {
     "data": {
      "image/png": "[encoded data removed]",
      "text/plain": [
       "<Figure size 1080x360 with 1 Axes>"
      ]
     },
     "metadata": {
      "needs_background": "light"
     },
     "output_type": "display_data"
    }
   ],
   "source": [
    "plot_spectogram('EmotionSpeech/Test/Calm/03-01-02-01-02-01-05.wav')"
   ]
  },
  {
   "cell_type": "code",
   "execution_count": 24,
   "metadata": {},
   "outputs": [
    {
     "data": {
      "image/png": "[encoded data removed]",
      "text/plain": [
       "<Figure size 1080x360 with 1 Axes>"
      ]
     },
     "metadata": {
      "needs_background": "light"
     },
     "output_type": "display_data"
    }
   ],
   "source": [
    "plot_spectogram('EmotionSpeech/Test/Happy/03-01-03-01-01-02-05.wav')"
   ]
  },
  {
   "cell_type": "code",
   "execution_count": 25,
   "metadata": {},
   "outputs": [
    {
     "data": {
      "image/png": "[encoded data removed]",
      "text/plain": [
       "<Figure size 1080x360 with 1 Axes>"
      ]
     },
     "metadata": {
      "needs_background": "light"
     },
     "output_type": "display_data"
    }
   ],
   "source": [
    "plot_spectogram('EmotionSpeech/Test/Sad/03-01-04-01-01-02-08.wav')"
   ]
  },
  {
   "cell_type": "code",
   "execution_count": 26,
   "metadata": {},
   "outputs": [
    {
     "data": {
      "image/png": "[encoded data removed]",
      "text/plain": [
       "<Figure size 1080x360 with 1 Axes>"
      ]
     },
     "metadata": {
      "needs_background": "light"
     },
     "output_type": "display_data"
    }
   ],
   "source": [
    "plot_spectogram('EmotionSpeech/Test/Angry/03-01-05-02-02-01-08.wav')"
   ]
  },
  {
   "cell_type": "code",
   "execution_count": null,
   "metadata": {},
   "outputs": [],
   "source": []
  }
 ],
 "metadata": {
  "kernelspec": {
   "display_name": "Python 3",
   "language": "python",
   "name": "python3"
  },
  "language_info": {
   "codemirror_mode": {
    "name": "ipython",
    "version": 3
   },
   "file_extension": ".py",
   "mimetype": "text/x-python",
   "name": "python",
   "nbconvert_exporter": "python",
   "pygments_lexer": "ipython3",
   "version": "3.7.7"
  }
 },
 "nbformat": 4,
 "nbformat_minor": 4
}
