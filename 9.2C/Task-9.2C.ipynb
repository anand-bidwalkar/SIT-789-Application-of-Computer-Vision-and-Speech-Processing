{
 "cells": [
  {
   "cell_type": "markdown",
   "metadata": {},
   "source": [
    "## SIT-789 Task-9.2C"
   ]
  },
  {
   "cell_type": "markdown",
   "metadata": {},
   "source": [
    "## Section-1"
   ]
  },
  {
   "cell_type": "code",
   "execution_count": 1,
   "metadata": {},
   "outputs": [
    {
     "name": "stderr",
     "output_type": "stream",
     "text": [
      "c:\\program files\\python37\\lib\\site-packages\\pydub\\utils.py:170: RuntimeWarning: Couldn't find ffmpeg or avconv - defaulting to ffmpeg, but may not work\n",
      "  warn(\"Couldn't find ffmpeg or avconv - defaulting to ffmpeg, but may not work\", RuntimeWarning)\n"
     ]
    }
   ],
   "source": [
    "import numpy as np\n",
    "import librosa\n",
    "from pydub import AudioSegment\n",
    "from pydub.utils import mediainfo\n",
    "from sklearn import preprocessing"
   ]
  },
  {
   "cell_type": "code",
   "execution_count": 2,
   "metadata": {},
   "outputs": [],
   "source": [
    "def mfcc_extraction(audio_filename, #.wav filename\n",
    "                    hop_duration, #hop_length in seconds, e.g., 0.015s (i.e., 15ms)\n",
    "                    num_mfcc #number of mfcc features\n",
    "                   ):\n",
    "    speech = AudioSegment.from_wav(audio_filename) #Read audio data from file\n",
    "    samples = speech.get_array_of_samples() #samples x(t)\n",
    "    sampling_rate = speech.frame_rate #sampling rate f\n",
    "    mfcc = librosa.feature.mfcc(\n",
    "        np.float32(samples),\n",
    "        sr = sampling_rate,\n",
    "        hop_length = int(sampling_rate * hop_duration),\n",
    "        n_mfcc = num_mfcc)\n",
    "    return mfcc.T"
   ]
  },
  {
   "cell_type": "code",
   "execution_count": 3,
   "metadata": {},
   "outputs": [],
   "source": [
    "from sklearn.mixture import GaussianMixture\n",
    "def learningGMM(features, #list of feature vectors, each feature vector is an array\n",
    "                n_components, #the number of components\n",
    "                max_iter #maximum number of iterations\n",
    "               ):\n",
    "    \n",
    "    gmm = GaussianMixture(n_components = n_components, max_iter = max_iter)\n",
    "    gmm.fit(features)\n",
    "    return gmm"
   ]
  },
  {
   "cell_type": "code",
   "execution_count": 4,
   "metadata": {},
   "outputs": [
    {
     "name": "stdout",
     "output_type": "stream",
     "text": [
      "['Anthony', 'AppleEater', 'Ara', 'Argail', 'Ariyan', 'Arjuan', 'Artem', 'Arthur', 'Artk', 'Arun', 'Arvala', 'Asalkeld', 'Asladic', 'Asp', 'Azmisov', 'B', 'Bachroxx', 'Bae', 'Bahoke', 'Bareford', 'Bart', 'Bassel', 'Beady', 'Beez', 'BelmontGuy']\n"
     ]
    }
   ],
   "source": [
    "import os\n",
    "path = 'SpeakerData/'\n",
    "speakers = os.listdir(path + 'Train/')\n",
    "print(speakers)"
   ]
  },
  {
   "cell_type": "code",
   "execution_count": 5,
   "metadata": {},
   "outputs": [],
   "source": [
    "from sklearn import preprocessing\n",
    "\n",
    "#this list is used to store the MFCC features of all training data of all speakers\n",
    "mfcc_all_speakers = []\n",
    "hop_duration = 0.015 #15ms\n",
    "num_mfcc = 12\n",
    "for s in speakers:\n",
    "    sub_path = path + 'Train/' + s + '/'\n",
    "    sub_file_names = [os.path.join(sub_path, f) for f in os.listdir(sub_path)]\n",
    "    mfcc_one_speaker = np.asarray(())\n",
    "    for fn in sub_file_names:\n",
    "        mfcc_one_file = mfcc_extraction(fn, hop_duration, num_mfcc)\n",
    "        if mfcc_one_speaker.size == 0:\n",
    "            mfcc_one_speaker = mfcc_one_file\n",
    "        else:\n",
    "            mfcc_one_speaker = np.vstack((mfcc_one_speaker, mfcc_one_file))\n",
    "    mfcc_all_speakers.append(mfcc_one_speaker)"
   ]
  },
  {
   "cell_type": "code",
   "execution_count": 7,
   "metadata": {},
   "outputs": [],
   "source": [
    "import pickle\n",
    "for i in range(0, len(speakers)):\n",
    "    with open('TrainingFeatures/' + speakers[i] + '_mfcc.fea','wb') as f:\n",
    "        pickle.dump(mfcc_all_speakers[i], f)"
   ]
  },
  {
   "cell_type": "code",
   "execution_count": 8,
   "metadata": {},
   "outputs": [],
   "source": [
    "n_components = 5\n",
    "max_iter = 50\n",
    "gmms = [] #list of GMMs, each is for a speaker\n",
    "\n",
    "for i in range(0, len(speakers)):\n",
    "    gmm = learningGMM(mfcc_all_speakers[i],\n",
    "                      n_components,\n",
    "                      max_iter)\n",
    "    gmms.append(gmm)"
   ]
  },
  {
   "cell_type": "code",
   "execution_count": 9,
   "metadata": {},
   "outputs": [],
   "source": [
    "for i in range(len(speakers)):\n",
    "    with open('Models/' + speakers[i] + '.gmm', 'wb') as f: #'wb' is for binary write\n",
    "        pickle.dump(gmms[i], f)"
   ]
  },
  {
   "cell_type": "markdown",
   "metadata": {},
   "source": [
    "## Section-2"
   ]
  },
  {
   "cell_type": "code",
   "execution_count": 10,
   "metadata": {},
   "outputs": [],
   "source": [
    "gmms = []\n",
    "for i in range(len(speakers)):\n",
    "    with open('Models/' + speakers[i] + '.gmm', 'rb') as f: #'wb' is for binary write\n",
    "        gmm = pickle.load(f)\n",
    "        gmms.append(gmm)"
   ]
  },
  {
   "cell_type": "code",
   "execution_count": 19,
   "metadata": {},
   "outputs": [],
   "source": [
    "def speaker_recognition(audio_file_name, gmms):\n",
    "    speaker_id = 0 #you need to calculate this\n",
    "    mfcc = mfcc_extraction(audio_file_name, 0.015, 12)\n",
    "    scores = []\n",
    "    for i in range(0, len(gmms)):\n",
    "        scores.append(gmms[i].score(mfcc))\n",
    "        \n",
    "    speaker_id = scores.index(max(scores))\n",
    "    return speaker_id"
   ]
  },
  {
   "cell_type": "code",
   "execution_count": 20,
   "metadata": {},
   "outputs": [
    {
     "name": "stdout",
     "output_type": "stream",
     "text": [
      "Ara\n"
     ]
    }
   ],
   "source": [
    "speaker_id = speaker_recognition('SpeakerData/Test/Ara/a0522.wav', gmms)\n",
    "print(speakers[speaker_id])"
   ]
  },
  {
   "cell_type": "code",
   "execution_count": 21,
   "metadata": {},
   "outputs": [],
   "source": [
    "test_file_names = []\n",
    "test_speaker_labels = []\n",
    "\n",
    "for i in range(0, len(speakers)):\n",
    "    sub_path = path + 'Test/' + speakers[i] + '/'\n",
    "    sub_file_names = [os.path.join(sub_path, f) for f in os.listdir(sub_path)]\n",
    "    sub_speaker_labels = [i] * len(sub_file_names) #create a list of N elements, all are i\n",
    "    test_file_names += sub_file_names\n",
    "    test_speaker_labels += sub_speaker_labels"
   ]
  },
  {
   "cell_type": "code",
   "execution_count": 24,
   "metadata": {},
   "outputs": [],
   "source": [
    "def get_predicted_labels(gmms):\n",
    "    predicted_speaker_labels = []\n",
    "    for file_name in test_file_names:\n",
    "        predicted_speaker_label = speaker_recognition(file_name, gmms)\n",
    "        predicted_speaker_labels.append(predicted_speaker_label)\n",
    "    return predicted_speaker_labels"
   ]
  },
  {
   "cell_type": "code",
   "execution_count": 39,
   "metadata": {},
   "outputs": [],
   "source": [
    "from sklearn.metrics import classification_report,confusion_matrix, accuracy_score\n",
    "def get_classification_report(predicted_speaker_labels):    \n",
    "    cm = confusion_matrix(test_speaker_labels, predicted_speaker_labels)\n",
    "    cm = cm.astype('float') / cm.sum(axis=1)[:, np.newaxis]\n",
    "    print(cm.diagonal())\n",
    "    print(classification_report(test_speaker_labels, predicted_speaker_labels))\n",
    "    print('Accuracy Score', accuracy_score(test_speaker_labels, predicted_speaker_labels))\n",
    "    return cm"
   ]
  },
  {
   "cell_type": "code",
   "execution_count": 40,
   "metadata": {},
   "outputs": [
    {
     "name": "stdout",
     "output_type": "stream",
     "text": [
      "[0.14285714 1.         1.         1.         1.         1.\n",
      " 1.         1.         1.         1.         1.         1.\n",
      " 1.         1.         1.         1.         1.         1.\n",
      " 0.85714286 1.         0.57142857 1.         1.         1.\n",
      " 1.        ]\n",
      "              precision    recall  f1-score   support\n",
      "\n",
      "           0       1.00      0.14      0.25         7\n",
      "           1       1.00      1.00      1.00         7\n",
      "           2       1.00      1.00      1.00         7\n",
      "           3       1.00      1.00      1.00         7\n",
      "           4       1.00      1.00      1.00         7\n",
      "           5       1.00      1.00      1.00         7\n",
      "           6       1.00      1.00      1.00         7\n",
      "           7       0.44      1.00      0.61         7\n",
      "           8       1.00      1.00      1.00         7\n",
      "           9       1.00      1.00      1.00         7\n",
      "          10       1.00      1.00      1.00         7\n",
      "          11       1.00      1.00      1.00         7\n",
      "          12       1.00      1.00      1.00         7\n",
      "          13       1.00      1.00      1.00         7\n",
      "          14       1.00      1.00      1.00         7\n",
      "          15       1.00      1.00      1.00         7\n",
      "          16       1.00      1.00      1.00         7\n",
      "          17       1.00      1.00      1.00         7\n",
      "          18       1.00      0.86      0.92         7\n",
      "          19       1.00      1.00      1.00         7\n",
      "          20       1.00      0.57      0.73         7\n",
      "          21       0.88      1.00      0.93         7\n",
      "          22       1.00      1.00      1.00         7\n",
      "          23       1.00      1.00      1.00         7\n",
      "          24       1.00      1.00      1.00         7\n",
      "\n",
      "    accuracy                           0.94       175\n",
      "   macro avg       0.97      0.94      0.94       175\n",
      "weighted avg       0.97      0.94      0.94       175\n",
      "\n",
      "Accuracy Score 0.9428571428571428\n"
     ]
    }
   ],
   "source": [
    "predicted_speaker_labels = get_predicted_labels(gmms)\n",
    "cm = get_classification_report(predicted_speaker_labels)"
   ]
  },
  {
   "cell_type": "code",
   "execution_count": 41,
   "metadata": {},
   "outputs": [
    {
     "data": {
      "text/plain": [
       "<AxesSubplot:>"
      ]
     },
     "execution_count": 41,
     "metadata": {},
     "output_type": "execute_result"
    },
    {
     "data": {
      "image/png": "[encoded data removed]",
      "text/plain": [
       "<Figure size 720x504 with 2 Axes>"
      ]
     },
     "metadata": {},
     "output_type": "display_data"
    }
   ],
   "source": [
    "import seaborn as sn\n",
    "import matplotlib.pyplot as plt\n",
    "\n",
    "plt.figure(figsize = (10,7))\n",
    "sn.set(font_scale=1.4)#for label size\n",
    "sn.heatmap(cm, cmap=\"Blues\", annot=True,annot_kws={\"size\": 16})# font size"
   ]
  },
  {
   "cell_type": "code",
   "execution_count": null,
   "metadata": {},
   "outputs": [],
   "source": []
  }
 ],
 "metadata": {
  "kernelspec": {
   "display_name": "Python 3",
   "language": "python",
   "name": "python3"
  },
  "language_info": {
   "codemirror_mode": {
    "name": "ipython",
    "version": 3
   },
   "file_extension": ".py",
   "mimetype": "text/x-python",
   "name": "python",
   "nbconvert_exporter": "python",
   "pygments_lexer": "ipython3",
   "version": "3.7.7"
  }
 },
 "nbformat": 4,
 "nbformat_minor": 4
}
