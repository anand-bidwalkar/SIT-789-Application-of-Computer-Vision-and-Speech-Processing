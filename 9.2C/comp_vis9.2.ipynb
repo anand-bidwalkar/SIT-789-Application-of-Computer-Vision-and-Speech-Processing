{
 "cells": [
  {
   "cell_type": "code",
   "execution_count": 1,
   "metadata": {},
   "outputs": [],
   "source": [
    "import numpy as np\n",
    "import librosa\n",
    "from pydub import AudioSegment\n",
    "from pydub.utils import mediainfo\n",
    "from sklearn import preprocessing\n",
    "def mfcc_extraction(audio_filename, #.wav filename\n",
    " hop_duration, #hop_length in seconds, e.g., 0.015s (i.e., 15ms)\n",
    " num_mfcc #number of mfcc features\n",
    " ):\n",
    "    speech = AudioSegment.from_wav(audio_filename) #Read audio data from file\n",
    "    samples = speech.get_array_of_samples() #samples x(t)\n",
    "\n",
    "    sampling_rate = speech.frame_rate #sampling rate f\n",
    "\n",
    "    mfcc = librosa.feature.mfcc(\n",
    "    np.float32(samples),\n",
    "    sr = sampling_rate,\n",
    "    hop_length = int(sampling_rate * hop_duration),\n",
    "    n_mfcc = num_mfcc)\n",
    "\n",
    "    return mfcc.T"
   ]
  },
  {
   "cell_type": "code",
   "execution_count": 2,
   "metadata": {},
   "outputs": [],
   "source": [
    "from sklearn.mixture import GaussianMixture\n",
    "def learningGMM(features, #list of feature vectors, each feature vector is an array\n",
    " n_components, #the number of components\n",
    " max_iter #maximum number of iterations\n",
    " ):\n",
    "    gmm = GaussianMixture(n_components = n_components, max_iter = max_iter)\n",
    "    gmm.fit(features)\n",
    "    return gmm"
   ]
  },
  {
   "cell_type": "code",
   "execution_count": 3,
   "metadata": {},
   "outputs": [
    {
     "name": "stdout",
     "output_type": "stream",
     "text": [
      "['Anthony', 'Azmisov', 'Bachroxx', 'Arthur', 'Bahoke', 'Artem', 'BelmontGuy', 'AppleEater', 'Bareford', 'Asladic', 'Bassel', 'Argail', 'Ariyan', 'Asalkeld', 'Arvala', 'Artk', 'Beady', 'Arjuan', 'Bart', 'Asp', 'Beez', 'Ara', 'Bae', 'Arun', 'B']\n"
     ]
    }
   ],
   "source": [
    "import os\n",
    "path = 'SpeakerData/'\n",
    "speakers = os.listdir(path + 'Train/')\n",
    "print(speakers)"
   ]
  },
  {
   "cell_type": "code",
   "execution_count": 63,
   "metadata": {},
   "outputs": [],
   "source": [
    "from sklearn import preprocessing\n",
    "#this list is used to store the MFCC features of all training data of all speakers\n",
    "mfcc_all_speakers = []\n",
    "hop_duration = 0.015 #15ms\n",
    "num_mfcc = 14\n",
    "for s in speakers:\n",
    "    sub_path = path + 'Train/' + s + '/'\n",
    "    sub_file_names = [os.path.join(sub_path, f) for f in os.listdir(sub_path)]\n",
    "    mfcc_one_speaker = np.asarray(())\n",
    "    for fn in sub_file_names:\n",
    "        mfcc_one_file = mfcc_extraction(fn, hop_duration, num_mfcc)\n",
    "        if mfcc_one_speaker.size == 0:\n",
    "            mfcc_one_speaker = mfcc_one_file\n",
    "        else:\n",
    "            mfcc_one_speaker = np.vstack((mfcc_one_speaker, mfcc_one_file))\n",
    "            mfcc_all_speakers.append(mfcc_one_speaker)\n"
   ]
  },
  {
   "cell_type": "code",
   "execution_count": 64,
   "metadata": {},
   "outputs": [],
   "source": [
    "n_components = 5\n",
    "max_iter = 50\n",
    "gmms = [] #list of GMMs, each is for a speaker\n",
    "for i in range(0, len(speakers)):\n",
    "    gmm = learningGMM(mfcc_all_speakers[i],\n",
    "    n_components,\n",
    "    max_iter)\n",
    "    gmms.append(gmm)"
   ]
  },
  {
   "cell_type": "code",
   "execution_count": 65,
   "metadata": {},
   "outputs": [],
   "source": [
    "def speaker_recognition(audio_file_name, gmms):\n",
    "    #print(\"File: \", audio_file_name)\n",
    "    speaker_id = 0\n",
    "    f = mfcc_extraction(audio_file_name, 0.015, 14)\n",
    "    max = gmms[0].score(f)\n",
    "\n",
    "    for i in range(0, len(gmms)):\n",
    "        s = gmms[i].score(f)\n",
    "        #print(s)\n",
    "        if(s >= max):\n",
    "            max = s\n",
    "            speaker_id = i\n",
    "            #print(max, speaker_id)\n",
    "    return speaker_id"
   ]
  },
  {
   "cell_type": "code",
   "execution_count": 66,
   "metadata": {},
   "outputs": [
    {
     "name": "stdout",
     "output_type": "stream",
     "text": [
      "Speaker:  Arun\n"
     ]
    }
   ],
   "source": [
    "speaker_id = speaker_recognition('SpeakerData/Test/Argail/rb-17.wav', gmms)\n",
    "print(\"Speaker: \", speakers[speaker_id])"
   ]
  },
  {
   "cell_type": "code",
   "execution_count": 67,
   "metadata": {},
   "outputs": [
    {
     "name": "stdout",
     "output_type": "stream",
     "text": [
      "['SpeakerData/Test/Anthony/a0495.wav', 'SpeakerData/Test/Anthony/a0500.wav', 'SpeakerData/Test/Anthony/a0496.wav', 'SpeakerData/Test/Anthony/a0499.wav', 'SpeakerData/Test/Anthony/a0494.wav', 'SpeakerData/Test/Anthony/a0498.wav', 'SpeakerData/Test/Anthony/a0497.wav', 'SpeakerData/Test/Azmisov/a0008.wav', 'SpeakerData/Test/Azmisov/a0006.wav', 'SpeakerData/Test/Azmisov/a0009.wav', 'SpeakerData/Test/Azmisov/a0012.wav', 'SpeakerData/Test/Azmisov/a0007.wav', 'SpeakerData/Test/Azmisov/a0010.wav', 'SpeakerData/Test/Azmisov/a0011.wav', 'SpeakerData/Test/Bachroxx/b0113.wav', 'SpeakerData/Test/Bachroxx/b0110.wav', 'SpeakerData/Test/Bachroxx/b0114.wav', 'SpeakerData/Test/Bachroxx/b0111.wav', 'SpeakerData/Test/Bachroxx/b0116.wav', 'SpeakerData/Test/Bachroxx/b0112.wav', 'SpeakerData/Test/Bachroxx/b0115.wav', 'SpeakerData/Test/Arthur/rp-29.wav', 'SpeakerData/Test/Arthur/ar-04.wav', 'SpeakerData/Test/Arthur/rp-30.wav', 'SpeakerData/Test/Arthur/ar-06.wav', 'SpeakerData/Test/Arthur/rp-28.wav', 'SpeakerData/Test/Arthur/rp-31.wav', 'SpeakerData/Test/Arthur/ar-05.wav', 'SpeakerData/Test/Bahoke/b0445.wav', 'SpeakerData/Test/Bahoke/b0442.wav', 'SpeakerData/Test/Bahoke/b0441.wav', 'SpeakerData/Test/Bahoke/b0446.wav', 'SpeakerData/Test/Bahoke/b0444.wav', 'SpeakerData/Test/Bahoke/b0440.wav', 'SpeakerData/Test/Bahoke/b0443.wav', 'SpeakerData/Test/Artem/b0138.wav', 'SpeakerData/Test/Artem/b0135.wav', 'SpeakerData/Test/Artem/b0140.wav', 'SpeakerData/Test/Artem/b0134.wav', 'SpeakerData/Test/Artem/b0136.wav', 'SpeakerData/Test/Artem/b0137.wav', 'SpeakerData/Test/Artem/b0139.wav', 'SpeakerData/Test/BelmontGuy/b0152.wav', 'SpeakerData/Test/BelmontGuy/b0156.wav', 'SpeakerData/Test/BelmontGuy/b0158.wav', 'SpeakerData/Test/BelmontGuy/b0153.wav', 'SpeakerData/Test/BelmontGuy/b0157.wav', 'SpeakerData/Test/BelmontGuy/b0155.wav', 'SpeakerData/Test/BelmontGuy/b0154.wav', 'SpeakerData/Test/AppleEater/a0056.wav', 'SpeakerData/Test/AppleEater/a0061.wav', 'SpeakerData/Test/AppleEater/a0055.wav', 'SpeakerData/Test/AppleEater/a0059.wav', 'SpeakerData/Test/AppleEater/a0057.wav', 'SpeakerData/Test/AppleEater/a0060.wav', 'SpeakerData/Test/AppleEater/a0058.wav', 'SpeakerData/Test/Bareford/a0018.wav', 'SpeakerData/Test/Bareford/a0016.wav', 'SpeakerData/Test/Bareford/a0015.wav', 'SpeakerData/Test/Bareford/a0020.wav', 'SpeakerData/Test/Bareford/a0021.wav', 'SpeakerData/Test/Bareford/a0019.wav', 'SpeakerData/Test/Bareford/a0017.wav', 'SpeakerData/Test/Asladic/b0141.wav', 'SpeakerData/Test/Asladic/b0138.wav', 'SpeakerData/Test/Asladic/b0140.wav', 'SpeakerData/Test/Asladic/b0136.wav', 'SpeakerData/Test/Asladic/b0142.wav', 'SpeakerData/Test/Asladic/b0137.wav', 'SpeakerData/Test/Asladic/b0139.wav', 'SpeakerData/Test/Bassel/b0432.wav', 'SpeakerData/Test/Bassel/b0430.wav', 'SpeakerData/Test/Bassel/b0428.wav', 'SpeakerData/Test/Bassel/b0429.wav', 'SpeakerData/Test/Bassel/b0433.wav', 'SpeakerData/Test/Bassel/b0434.wav', 'SpeakerData/Test/Bassel/b0431.wav', 'SpeakerData/Test/Argail/rb-15.wav', 'SpeakerData/Test/Argail/rb-20.wav', 'SpeakerData/Test/Argail/rb-21.wav', 'SpeakerData/Test/Argail/rb-18.wav', 'SpeakerData/Test/Argail/rb-17.wav', 'SpeakerData/Test/Argail/rb-19.wav', 'SpeakerData/Test/Argail/rb-16.wav', 'SpeakerData/Test/Ariyan/b0273.wav', 'SpeakerData/Test/Ariyan/b0271.wav', 'SpeakerData/Test/Ariyan/b0270.wav', 'SpeakerData/Test/Ariyan/b0272.wav', 'SpeakerData/Test/Ariyan/b0274.wav', 'SpeakerData/Test/Ariyan/b0269.wav', 'SpeakerData/Test/Ariyan/b0268.wav', 'SpeakerData/Test/Asalkeld/a0150.wav', 'SpeakerData/Test/Asalkeld/a0156.wav', 'SpeakerData/Test/Asalkeld/a0152.wav', 'SpeakerData/Test/Asalkeld/a0153.wav', 'SpeakerData/Test/Asalkeld/a0155.wav', 'SpeakerData/Test/Asalkeld/a0151.wav', 'SpeakerData/Test/Asalkeld/a0154.wav', 'SpeakerData/Test/Arvala/a0234.wav', 'SpeakerData/Test/Arvala/a0232.wav', 'SpeakerData/Test/Arvala/a0235.wav', 'SpeakerData/Test/Arvala/a0237.wav', 'SpeakerData/Test/Arvala/a0231.wav', 'SpeakerData/Test/Arvala/a0233.wav', 'SpeakerData/Test/Arvala/a0236.wav', 'SpeakerData/Test/Artk/b0309.wav', 'SpeakerData/Test/Artk/b0308.wav', 'SpeakerData/Test/Artk/b0307.wav', 'SpeakerData/Test/Artk/b0306.wav', 'SpeakerData/Test/Artk/b0310.wav', 'SpeakerData/Test/Artk/b0311.wav', 'SpeakerData/Test/Artk/b0305.wav', 'SpeakerData/Test/Beady/a0448.wav', 'SpeakerData/Test/Beady/a0445.wav', 'SpeakerData/Test/Beady/a0450.wav', 'SpeakerData/Test/Beady/a0446.wav', 'SpeakerData/Test/Beady/a0444.wav', 'SpeakerData/Test/Beady/a0449.wav', 'SpeakerData/Test/Beady/a0447.wav', 'SpeakerData/Test/Arjuan/b0221.wav', 'SpeakerData/Test/Arjuan/b0223.wav', 'SpeakerData/Test/Arjuan/b0225.wav', 'SpeakerData/Test/Arjuan/b0220.wav', 'SpeakerData/Test/Arjuan/b0226.wav', 'SpeakerData/Test/Arjuan/b0222.wav', 'SpeakerData/Test/Arjuan/b0224.wav', 'SpeakerData/Test/Bart/b0430.wav', 'SpeakerData/Test/Bart/b0428.wav', 'SpeakerData/Test/Bart/b0429.wav', 'SpeakerData/Test/Bart/b0427.wav', 'SpeakerData/Test/Bart/b0425.wav', 'SpeakerData/Test/Bart/b0424.wav', 'SpeakerData/Test/Bart/b0426.wav', 'SpeakerData/Test/Asp/a0585.wav', 'SpeakerData/Test/Asp/a0581.wav', 'SpeakerData/Test/Asp/a0586.wav', 'SpeakerData/Test/Asp/a0584.wav', 'SpeakerData/Test/Asp/a0582.wav', 'SpeakerData/Test/Asp/a0583.wav', 'SpeakerData/Test/Asp/a0580.wav', 'SpeakerData/Test/Beez/a0087.wav', 'SpeakerData/Test/Beez/a0084.wav', 'SpeakerData/Test/Beez/a0088.wav', 'SpeakerData/Test/Beez/a0085.wav', 'SpeakerData/Test/Beez/a0086.wav', 'SpeakerData/Test/Beez/a0090.wav', 'SpeakerData/Test/Beez/a0089.wav', 'SpeakerData/Test/Ara/a0521.wav', 'SpeakerData/Test/Ara/a0524.wav', 'SpeakerData/Test/Ara/a0525.wav', 'SpeakerData/Test/Ara/a0526.wav', 'SpeakerData/Test/Ara/a0523.wav', 'SpeakerData/Test/Ara/a0520.wav', 'SpeakerData/Test/Ara/a0522.wav', 'SpeakerData/Test/Bae/a0138.wav', 'SpeakerData/Test/Bae/a0140.wav', 'SpeakerData/Test/Bae/a0134.wav', 'SpeakerData/Test/Bae/a0135.wav', 'SpeakerData/Test/Bae/a0139.wav', 'SpeakerData/Test/Bae/a0137.wav', 'SpeakerData/Test/Bae/a0136.wav', 'SpeakerData/Test/Arun/b0180.wav', 'SpeakerData/Test/Arun/b0178.wav', 'SpeakerData/Test/Arun/b0174.wav', 'SpeakerData/Test/Arun/b0175.wav', 'SpeakerData/Test/Arun/b0177.wav', 'SpeakerData/Test/Arun/b0179.wav', 'SpeakerData/Test/Arun/b0176.wav', 'SpeakerData/Test/B/b0252.wav', 'SpeakerData/Test/B/b0250.wav', 'SpeakerData/Test/B/b0254.wav', 'SpeakerData/Test/B/b0249.wav', 'SpeakerData/Test/B/b0251.wav', 'SpeakerData/Test/B/b0248.wav', 'SpeakerData/Test/B/b0253.wav']\n",
      "[0, 0, 0, 0, 0, 0, 0, 1, 1, 1, 1, 1, 1, 1, 2, 2, 2, 2, 2, 2, 2, 3, 3, 3, 3, 3, 3, 3, 4, 4, 4, 4, 4, 4, 4, 5, 5, 5, 5, 5, 5, 5, 6, 6, 6, 6, 6, 6, 6, 7, 7, 7, 7, 7, 7, 7, 8, 8, 8, 8, 8, 8, 8, 9, 9, 9, 9, 9, 9, 9, 10, 10, 10, 10, 10, 10, 10, 11, 11, 11, 11, 11, 11, 11, 12, 12, 12, 12, 12, 12, 12, 13, 13, 13, 13, 13, 13, 13, 14, 14, 14, 14, 14, 14, 14, 15, 15, 15, 15, 15, 15, 15, 16, 16, 16, 16, 16, 16, 16, 17, 17, 17, 17, 17, 17, 17, 18, 18, 18, 18, 18, 18, 18, 19, 19, 19, 19, 19, 19, 19, 20, 20, 20, 20, 20, 20, 20, 21, 21, 21, 21, 21, 21, 21, 22, 22, 22, 22, 22, 22, 22, 23, 23, 23, 23, 23, 23, 23, 24, 24, 24, 24, 24, 24, 24]\n"
     ]
    }
   ],
   "source": [
    "path = 'SpeakerData/'\n",
    "speakers = os.listdir(path + 'Test/')\n",
    "\n",
    "test_file_names = []\n",
    "test_speaker_labels = []\n",
    "for i in range(0, len(speakers)):\n",
    "    sub_path = path + 'Test/' + speakers[i] + '/'\n",
    "    sub_file_names = [os.path.join(sub_path, f) for f in os.listdir(sub_path)]\n",
    "    sub_speaker_labels = [i] * len(sub_file_names) #create a list of N elements, all are i\n",
    "    test_file_names += sub_file_names\n",
    "    test_speaker_labels += sub_speaker_labels\n",
    "\n",
    "print(test_file_names)\n",
    "print(test_speaker_labels)\n",
    "\n",
    "\n"
   ]
  },
  {
   "cell_type": "code",
   "execution_count": 68,
   "metadata": {},
   "outputs": [],
   "source": [
    "pred = []\n",
    "for i in test_file_names:\n",
    "    pred.append(speaker_recognition(i, gmms))\n"
   ]
  },
  {
   "cell_type": "code",
   "execution_count": 69,
   "metadata": {},
   "outputs": [
    {
     "data": {
      "text/plain": [
       "0.0"
      ]
     },
     "execution_count": 69,
     "metadata": {},
     "output_type": "execute_result"
    }
   ],
   "source": [
    "sum(1 for x,y in zip(test_speaker_labels, pred) if x == y) / float(len(test_speaker_labels))\n"
   ]
  },
  {
   "cell_type": "code",
   "execution_count": null,
   "metadata": {},
   "outputs": [],
   "source": []
  }
 ],
 "metadata": {
  "kernelspec": {
   "display_name": "Python 3",
   "language": "python",
   "name": "python3"
  },
  "language_info": {
   "codemirror_mode": {
    "name": "ipython",
    "version": 3
   },
   "file_extension": ".py",
   "mimetype": "text/x-python",
   "name": "python",
   "nbconvert_exporter": "python",
   "pygments_lexer": "ipython3",
   "version": "3.7.7"
  }
 },
 "nbformat": 4,
 "nbformat_minor": 4
}
