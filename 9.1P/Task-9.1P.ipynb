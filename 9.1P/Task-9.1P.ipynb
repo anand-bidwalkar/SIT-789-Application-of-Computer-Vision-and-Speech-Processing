{
 "cells": [
  {
   "cell_type": "markdown",
   "metadata": {},
   "source": [
    "## SIT-789 Task-9.1P"
   ]
  },
  {
   "cell_type": "code",
   "execution_count": 2,
   "metadata": {},
   "outputs": [],
   "source": [
    "from ibm_watson import SpeechToTextV1\n",
    "from ibm_cloud_sdk_core.authenticators import IAMAuthenticator\n",
    "\n",
    "authenticator = IAMAuthenticator('ytIq7zTcxqFSmRFT_CNojfy9gysPWeW_SdifAOkCY1b3') #replace {APIkey} by your API key\n",
    "speech_to_text = SpeechToTextV1(\n",
    " authenticator=authenticator\n",
    ")\n",
    "speech_to_text.set_service_url('https://api.au-syd.speech-to-text.watson.cloud.ibm.com/instances/3bd7a18f-d01a-445d-8583-d363545149f9') #replace {url} by your URL"
   ]
  },
  {
   "cell_type": "code",
   "execution_count": 3,
   "metadata": {},
   "outputs": [
    {
     "name": "stdout",
     "output_type": "stream",
     "text": [
      "{\n",
      "  \"result_index\": 0,\n",
      "  \"results\": [\n",
      "    {\n",
      "      \"final\": true,\n",
      "      \"alternatives\": [\n",
      "        {\n",
      "          \"transcript\": \"will we ever forget it \",\n",
      "          \"confidence\": 0.95\n",
      "        }\n",
      "      ]\n",
      "    }\n",
      "  ]\n",
      "}\n"
     ]
    }
   ],
   "source": [
    "import json\n",
    "with open('SpeechtoTextData/arctic_a0005.wav', 'rb') as audio_file:\n",
    "    speech_recognition_results = speech_to_text.recognize(\n",
    "        audio = audio_file,\n",
    "        content_type='audio/wav').get_result()\n",
    "\n",
    "print(json.dumps(speech_recognition_results, indent = 2))"
   ]
  },
  {
   "cell_type": "code",
   "execution_count": 4,
   "metadata": {},
   "outputs": [],
   "source": [
    "with open('SpeechtoTextData/arctic_a0005.json', 'w') as outfile:\n",
    "    json.dump(speech_recognition_results, outfile)"
   ]
  },
  {
   "cell_type": "code",
   "execution_count": 5,
   "metadata": {},
   "outputs": [
    {
     "name": "stdout",
     "output_type": "stream",
     "text": [
      "{'result_index': 0, 'results': [{'final': True, 'alternatives': [{'transcript': 'will we ever forget it ', 'confidence': 0.95}]}]}\n"
     ]
    }
   ],
   "source": [
    "with open('SpeechtoTextData/arctic_a0005.json') as infile:\n",
    "    data = json.load(infile) # load data from a json file\n",
    "print(data)"
   ]
  },
  {
   "cell_type": "code",
   "execution_count": 8,
   "metadata": {},
   "outputs": [
    {
     "name": "stdout",
     "output_type": "stream",
     "text": [
      "{\n",
      "  \"result_index\": 0,\n",
      "  \"results\": [\n",
      "    {\n",
      "      \"final\": true,\n",
      "      \"alternatives\": [\n",
      "        {\n",
      "          \"transcript\": \"lobsters and law officers \",\n",
      "          \"confidence\": 0.74\n",
      "        }\n",
      "      ]\n",
      "    }\n",
      "  ]\n",
      "}\n"
     ]
    }
   ],
   "source": [
    "with open('SpeechtoTextData/367-130732-0000.flac', 'rb') as audio_file:\n",
    "    speech_recognition_results = speech_to_text.recognize(\n",
    "        audio = audio_file,\n",
    "        content_type='audio/flac').get_result()\n",
    "\n",
    "print(json.dumps(speech_recognition_results, indent = 2))\n",
    "\n",
    "with open('SpeechtoTextData/367-130732-0000.json', 'w') as outfile:\n",
    "    json.dump(speech_recognition_results, outfile)"
   ]
  },
  {
   "cell_type": "code",
   "execution_count": 9,
   "metadata": {},
   "outputs": [
    {
     "name": "stdout",
     "output_type": "stream",
     "text": [
      "{\n",
      "  \"result_index\": 0,\n",
      "  \"results\": [\n",
      "    {\n",
      "      \"final\": true,\n",
      "      \"alternatives\": [\n",
      "        {\n",
      "          \"transcript\": \"when is a lobster not a lobster when it is a crayfish \",\n",
      "          \"confidence\": 0.87\n",
      "        }\n",
      "      ]\n",
      "    }\n",
      "  ]\n",
      "}\n"
     ]
    }
   ],
   "source": [
    "with open('SpeechtoTextData/367-130732-0001.flac', 'rb') as audio_file:\n",
    "    speech_recognition_results = speech_to_text.recognize(\n",
    "        audio = audio_file,\n",
    "        content_type='audio/flac').get_result()\n",
    "\n",
    "print(json.dumps(speech_recognition_results, indent = 2))\n",
    "\n",
    "with open('SpeechtoTextData/367-130732-0001.json', 'w') as outfile:\n",
    "    json.dump(speech_recognition_results, outfile)"
   ]
  },
  {
   "cell_type": "code",
   "execution_count": 10,
   "metadata": {},
   "outputs": [
    {
     "name": "stdout",
     "output_type": "stream",
     "text": [
      "{\n",
      "  \"result_index\": 0,\n",
      "  \"results\": [\n",
      "    {\n",
      "      \"final\": true,\n",
      "      \"alternatives\": [\n",
      "        {\n",
      "          \"transcript\": \"a book could be written about this restaurant and then all would not be told for all its secrets can never be known \",\n",
      "          \"confidence\": 0.92\n",
      "        }\n",
      "      ]\n",
      "    }\n",
      "  ]\n",
      "}\n"
     ]
    }
   ],
   "source": [
    "with open('SpeechtoTextData/367-130732-0004.flac', 'rb') as audio_file:\n",
    "    speech_recognition_results = speech_to_text.recognize(\n",
    "        audio = audio_file,\n",
    "        content_type='audio/flac').get_result()\n",
    "\n",
    "print(json.dumps(speech_recognition_results, indent = 2))\n",
    "\n",
    "with open('SpeechtoTextData/367-130732-0004.json', 'w') as outfile:\n",
    "    json.dump(speech_recognition_results, outfile)"
   ]
  },
  {
   "cell_type": "code",
   "execution_count": 11,
   "metadata": {},
   "outputs": [
    {
     "name": "stdout",
     "output_type": "stream",
     "text": [
      "{\n",
      "  \"result_index\": 0,\n",
      "  \"results\": [\n",
      "    {\n",
      "      \"final\": true,\n",
      "      \"alternatives\": [\n",
      "        {\n",
      "          \"transcript\": \"author of the danger trail Phillips steals etcetera \",\n",
      "          \"confidence\": 0.78\n",
      "        }\n",
      "      ]\n",
      "    }\n",
      "  ]\n",
      "}\n"
     ]
    }
   ],
   "source": [
    "with open('SpeechtoTextData/arctic_a0001.wav', 'rb') as audio_file:\n",
    "    speech_recognition_results = speech_to_text.recognize(\n",
    "        audio = audio_file,\n",
    "        content_type='audio/wav').get_result()\n",
    "\n",
    "print(json.dumps(speech_recognition_results, indent = 2))\n",
    "\n",
    "with open('SpeechtoTextData/arctic_a0001.json', 'w') as outfile:\n",
    "    json.dump(speech_recognition_results, outfile)"
   ]
  },
  {
   "cell_type": "code",
   "execution_count": 12,
   "metadata": {},
   "outputs": [
    {
     "name": "stdout",
     "output_type": "stream",
     "text": [
      "{\n",
      "  \"result_index\": 0,\n",
      "  \"results\": [\n",
      "    {\n",
      "      \"final\": true,\n",
      "      \"alternatives\": [\n",
      "        {\n",
      "          \"transcript\": \"for the twentieth time that evening the two men shook hands \",\n",
      "          \"confidence\": 0.86\n",
      "        }\n",
      "      ]\n",
      "    }\n",
      "  ]\n",
      "}\n"
     ]
    }
   ],
   "source": [
    "with open('SpeechtoTextData/arctic_a0003.wav', 'rb') as audio_file:\n",
    "    speech_recognition_results = speech_to_text.recognize(\n",
    "        audio = audio_file,\n",
    "        content_type='audio/wav').get_result()\n",
    "\n",
    "print(json.dumps(speech_recognition_results, indent = 2))\n",
    "\n",
    "with open('SpeechtoTextData/arctic_a0003.json', 'w') as outfile:\n",
    "    json.dump(speech_recognition_results, outfile)"
   ]
  },
  {
   "cell_type": "code",
   "execution_count": 13,
   "metadata": {},
   "outputs": [
    {
     "name": "stdout",
     "output_type": "stream",
     "text": [
      "{\n",
      "  \"result_index\": 0,\n",
      "  \"results\": [\n",
      "    {\n",
      "      \"final\": true,\n",
      "      \"alternatives\": [\n",
      "        {\n",
      "          \"transcript\": \"there is according to legend a boiling pot of gold at one end \",\n",
      "          \"confidence\": 0.98\n",
      "        }\n",
      "      ]\n",
      "    }\n",
      "  ]\n",
      "}\n"
     ]
    }
   ],
   "source": [
    "with open('SpeechtoTextData/p232_009.wav', 'rb') as audio_file:\n",
    "    speech_recognition_results = speech_to_text.recognize(\n",
    "        audio = audio_file,\n",
    "        content_type='audio/wav').get_result()\n",
    "\n",
    "print(json.dumps(speech_recognition_results, indent = 2))\n",
    "\n",
    "with open('SpeechtoTextData/p232_009.json', 'w') as outfile:\n",
    "    json.dump(speech_recognition_results, outfile)"
   ]
  },
  {
   "cell_type": "code",
   "execution_count": 14,
   "metadata": {},
   "outputs": [
    {
     "name": "stdout",
     "output_type": "stream",
     "text": [
      "{\n",
      "  \"result_index\": 0,\n",
      "  \"results\": [\n",
      "    {\n",
      "      \"final\": true,\n",
      "      \"alternatives\": [\n",
      "        {\n",
      "          \"transcript\": \"no one ever finds \",\n",
      "          \"confidence\": 0.19\n",
      "        }\n",
      "      ]\n",
      "    }\n",
      "  ]\n",
      "}\n"
     ]
    }
   ],
   "source": [
    "with open('SpeechtoTextData/p232_010.wav', 'rb') as audio_file:\n",
    "    speech_recognition_results = speech_to_text.recognize(\n",
    "        audio = audio_file,\n",
    "        content_type='audio/wav').get_result()\n",
    "\n",
    "print(json.dumps(speech_recognition_results, indent = 2))\n",
    "\n",
    "with open('SpeechtoTextData/p232_010.json', 'w') as outfile:\n",
    "    json.dump(speech_recognition_results, outfile)"
   ]
  },
  {
   "cell_type": "code",
   "execution_count": 17,
   "metadata": {},
   "outputs": [
    {
     "name": "stdout",
     "output_type": "stream",
     "text": [
      "{\n",
      "  \"result_index\": 0,\n",
      "  \"results\": [\n",
      "    {\n",
      "      \"final\": true,\n",
      "      \"alternatives\": [\n",
      "        {\n",
      "          \"transcript\": \"the Hebrews it was a token that there would be no more universal floods \",\n",
      "          \"confidence\": 0.92\n",
      "        }\n",
      "      ]\n",
      "    }\n",
      "  ]\n",
      "}\n"
     ]
    }
   ],
   "source": [
    "with open('SpeechtoTextData/p232_014.wav', 'rb') as audio_file:\n",
    "    speech_recognition_results = speech_to_text.recognize(\n",
    "        audio = audio_file,\n",
    "        content_type='audio/wav').get_result()\n",
    "\n",
    "print(json.dumps(speech_recognition_results, indent = 2))\n",
    "\n",
    "with open('SpeechtoTextData/p232_014.json', 'w') as outfile:\n",
    "    json.dump(speech_recognition_results, outfile)"
   ]
  },
  {
   "cell_type": "code",
   "execution_count": 18,
   "metadata": {},
   "outputs": [
    {
     "name": "stdout",
     "output_type": "stream",
     "text": [
      "{\n",
      "  \"result_index\": 0,\n",
      "  \"results\": [\n",
      "    {\n",
      "      \"final\": true,\n",
      "      \"alternatives\": [\n",
      "        {\n",
      "          \"transcript\": \"they were described as being in a serious but stable condition yesterday \",\n",
      "          \"confidence\": 0.94\n",
      "        }\n",
      "      ]\n",
      "    }\n",
      "  ]\n",
      "}\n"
     ]
    }
   ],
   "source": [
    "with open('SpeechtoTextData/p232_030.wav', 'rb') as audio_file:\n",
    "    speech_recognition_results = speech_to_text.recognize(\n",
    "        audio = audio_file,\n",
    "        content_type='audio/wav').get_result()\n",
    "\n",
    "print(json.dumps(speech_recognition_results, indent = 2))\n",
    "\n",
    "with open('SpeechtoTextData/p232_030.json', 'w') as outfile:\n",
    "    json.dump(speech_recognition_results, outfile)"
   ]
  },
  {
   "cell_type": "code",
   "execution_count": null,
   "metadata": {},
   "outputs": [],
   "source": []
  }
 ],
 "metadata": {
  "kernelspec": {
   "display_name": "Python 3",
   "language": "python",
   "name": "python3"
  },
  "language_info": {
   "codemirror_mode": {
    "name": "ipython",
    "version": 3
   },
   "file_extension": ".py",
   "mimetype": "text/x-python",
   "name": "python",
   "nbconvert_exporter": "python",
   "pygments_lexer": "ipython3",
   "version": "3.7.7"
  }
 },
 "nbformat": 4,
 "nbformat_minor": 4
}
